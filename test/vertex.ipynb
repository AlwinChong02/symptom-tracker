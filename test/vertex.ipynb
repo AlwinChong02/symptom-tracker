{
 "cells": [
  {
   "cell_type": "code",
   "execution_count": null,
   "id": "e89f5547",
   "metadata": {},
   "outputs": [],
   "source": [
    "from IPython.display import HTML, Image, Markdown, display\n",
    "from google import genai\n",
    "from google.genai.types import (\n",
    "    FunctionDeclaration,\n",
    "    GenerateContentConfig,\n",
    "    GoogleSearch,\n",
    "    HarmBlockThreshold,\n",
    "    HarmCategory,\n",
    "    Part,\n",
    "    SafetySetting,\n",
    "    ThinkingConfig,\n",
    "    Tool,\n",
    "    ToolCodeExecution,\n",
    ")\n",
    "\n",
    "import os\n",
    "import dotenv\n",
    "dotenv.load_dotenv()\n",
    "\n",
    "\n",
    "     "
   ]
  },
  {
   "cell_type": "code",
   "execution_count": 11,
   "id": "5579a4ed",
   "metadata": {},
   "outputs": [],
   "source": [
    "client = genai.Client(api_key=os.getenv(\"GEMINI_API_KEY\"))"
   ]
  },
  {
   "cell_type": "code",
   "execution_count": 12,
   "id": "528862a9",
   "metadata": {},
   "outputs": [
    {
     "name": "stdout",
     "output_type": "stream",
     "text": [
      "Using Gemini Developer API.\n"
     ]
    }
   ],
   "source": [
    "# verify which mode\n",
    "if not client.vertexai:\n",
    "    print(\"Using Gemini Developer API.\")\n",
    "elif client._api_client.project:\n",
    "    print(\n",
    "        f\"Using Vertex AI with project: {client._api_client.project} in location: {client._api_client.location}\"\n",
    "    )\n",
    "elif client._api_client.api_key:\n",
    "    print(\n",
    "        f\"Using Vertex AI in express mode with API key: {client._api_client.api_key[:5]}...{client._api_client.api_key[-5:]}\"\n",
    "    )"
   ]
  },
  {
   "cell_type": "code",
   "execution_count": 13,
   "id": "68944e36",
   "metadata": {},
   "outputs": [],
   "source": [
    "MODEL_ID = \"gemini-2.0-flash\""
   ]
  },
  {
   "cell_type": "code",
   "execution_count": 18,
   "id": "70cdedf0",
   "metadata": {},
   "outputs": [
    {
     "name": "stdout",
     "output_type": "stream",
     "text": [
      "Let $n$ be the number of tennis balls Roger has initially. We are given that Roger has 5 tennis balls, so $n=5$.\n",
      "Roger buys 2 more cans of tennis balls. Each can has 3 tennis balls. So the number of tennis balls in the cans is $2 \\times 3 = 6$.\n",
      "Let $N$ be the total number of tennis balls Roger has now. Then $N$ is the sum of the number of tennis balls he had initially and the number of tennis balls in the cans he bought.\n",
      "So, $N = n + (2 \\times 3) = 5 + (2 \\times 3) = 5 + 6 = 11$.\n",
      "\n",
      "Therefore, Roger has 11 tennis balls now.\n",
      "\n",
      "Final Answer: The final answer is $\\boxed{11}$\n"
     ]
    }
   ],
   "source": [
    "\n",
    "response = client.models.generate_content(\n",
    "    model=MODEL_ID,\n",
    "    config=GenerateContentConfig(\n",
    "        # response_mime_type=\"application/json\",\n",
    "    ),\n",
    "    contents=\"Roger has 5 tennis balls. He buys 2 more cans of tennis balls. Each can has 3 tennis balls. How many tennis balls does he have now?\",\n",
    ")\n",
    "\n",
    "print(response.text)"
   ]
  }
 ],
 "metadata": {
  "kernelspec": {
   "display_name": "base",
   "language": "python",
   "name": "python3"
  },
  "language_info": {
   "codemirror_mode": {
    "name": "ipython",
    "version": 3
   },
   "file_extension": ".py",
   "mimetype": "text/x-python",
   "name": "python",
   "nbconvert_exporter": "python",
   "pygments_lexer": "ipython3",
   "version": "3.12.7"
  }
 },
 "nbformat": 4,
 "nbformat_minor": 5
}
